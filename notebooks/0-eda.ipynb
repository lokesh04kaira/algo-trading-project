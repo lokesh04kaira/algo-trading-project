{
 "cells": [
  {
   "cell_type": "code",
   "execution_count": null,
   "id": "4e770c82",
   "metadata": {},
   "outputs": [],
   "source": [
    "import yfinance as yf\n",
    "import matplotlib.pyplot as plt\n",
    "\n",
    "# download Apple stock data\n",
    "df = yf.download(\"AAPL\", start=\"2020-01-01\", end=\"2024-01-01\")\n",
    "print(df.head())\n",
    "\n",
    "# plot closing price\n",
    "df[\"Close\"].plot(title=\"AAPL Closing Price\", figsize=(12,6))\n",
    "plt.show()\n"
   ]
  }
 ],
 "metadata": {
  "kernelspec": {
   "display_name": "venv",
   "language": "python",
   "name": "python3"
  },
  "language_info": {
   "name": "python",
   "version": "3.13.5"
  }
 },
 "nbformat": 4,
 "nbformat_minor": 5
}
